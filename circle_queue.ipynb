{
  "nbformat": 4,
  "nbformat_minor": 0,
  "metadata": {
    "colab": {
      "provenance": [],
      "authorship_tag": "ABX9TyM72c7K7sKeVuAMt0t1QpWr",
      "include_colab_link": true
    },
    "kernelspec": {
      "name": "python3",
      "display_name": "Python 3"
    },
    "language_info": {
      "name": "python"
    }
  },
  "cells": [
    {
      "cell_type": "markdown",
      "metadata": {
        "id": "view-in-github",
        "colab_type": "text"
      },
      "source": [
        "<a href=\"https://colab.research.google.com/github/40116341054041/circle_queue/blob/main/circle_queue.ipynb\" target=\"_parent\"><img src=\"https://colab.research.google.com/assets/colab-badge.svg\" alt=\"Open In Colab\"/></a>"
      ]
    },
    {
      "cell_type": "code",
      "execution_count": null,
      "metadata": {
        "id": "EQvza7ndFoKE"
      },
      "outputs": [],
      "source": [
        "from typing_extenssions import Self\n",
        "#کلاس صف حلقوی\n",
        "class Queue_c:\n",
        "  def __init__(self,k):\n",
        "    self.k = k\n",
        "    self.queue = [None]*k\n",
        "    self.front=-1\n",
        "    self.rear=-1\n",
        "#تابع اضافه شدن\n",
        "  def insqueue_c(self,data):\n",
        "    if((self.rear+1)% self.k == self.front):\n",
        "      print(\"full\")\n",
        "    elif(self.front == -1):\n",
        "      self.front=0\n",
        "      self.rear=0\n",
        "      Queue_c[self.rear]=data\n",
        "    else:\n",
        "      self.rear+=1\n",
        "      Queue_c[self.rear]=data\n",
        "#تابع کم شدن\n",
        "  def delqueue(self):\n",
        "    if self.front==-1:\n",
        "      print(\"empte\")\n",
        "    elif self.front==self.rear:\n",
        "      t=Queue_c[front]\n",
        "      self.front = -1\n",
        "      self.rear = -1\n",
        "      return t\n",
        "    else:\n",
        "      t=self.queue[front]\n",
        "      front = (self.front+1)% self.k\n",
        "      return t\n",
        "#تابع نمایش دیتا ها به ترتیب\n",
        "  def disqueue_c(self):\n",
        "    if self.front==-1:\n",
        "      print(\"empty\")\n",
        "    for i in range(self.front , self.rear+1):\n",
        "      print(self.queue[self.front])\n",
        "    else:\n",
        "      for i in range(self.front , self.k):\n",
        "        print(self.queue[i])\n",
        "      for j in range(self.rear+1):\n",
        "        print(self.queue[i])\n",
        "\n"
      ]
    }
  ]
}